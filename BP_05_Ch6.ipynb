{
  "nbformat": 4,
  "nbformat_minor": 0,
  "metadata": {
    "colab": {
      "provenance": [],
      "authorship_tag": "ABX9TyN1t1J2uHDvxRUyw7B8IQjF",
      "include_colab_link": true
    },
    "kernelspec": {
      "name": "python3",
      "display_name": "Python 3"
    },
    "language_info": {
      "name": "python"
    }
  },
  "cells": [
    {
      "cell_type": "markdown",
      "metadata": {
        "id": "view-in-github",
        "colab_type": "text"
      },
      "source": [
        "<a href=\"https://colab.research.google.com/github/cacoon01011/BP_05_Ch6/blob/main/BP_05_Ch6.ipynb\" target=\"_parent\"><img src=\"https://colab.research.google.com/assets/colab-badge.svg\" alt=\"Open In Colab\"/></a>"
      ]
    },
    {
      "cell_type": "markdown",
      "source": [
        "1. 2부터 100사이의 모든 짝수를 출력하는 반복 루프를 작성한다."
      ],
      "metadata": {
        "id": "GsrlOAIEFc_9"
      }
    },
    {
      "cell_type": "code",
      "execution_count": 3,
      "metadata": {
        "colab": {
          "base_uri": "https://localhost:8080/"
        },
        "id": "TYWJ5GH-FNWR",
        "outputId": "775317ae-2c4d-46f3-e619-d7c428681b67"
      },
      "outputs": [
        {
          "output_type": "stream",
          "name": "stdout",
          "text": [
            "2 4 6 8 10 12 14 16 18 20 22 24 26 28 30 32 34 36 38 40 42 44 46 48 50 52 54 56 58 60 62 64 66 68 70 72 74 76 78 80 82 84 86 88 90 92 94 96 98 100 "
          ]
        }
      ],
      "source": [
        "for i in range(2, 101):\n",
        "  if i%2==0 :\n",
        "    print(i, end = \" \")"
      ]
    },
    {
      "cell_type": "markdown",
      "source": [
        "2. 어떤 사람이 복리이자율 7%로 1000만원을 저금했을 경우에 2000만원이 되는데 몇년이 걸리는지 계산하기 위하여 다음과 코드를 작성하였다. 잘못된 점은 없는지 체크해 보자."
      ],
      "metadata": {
        "id": "Bxihe8qoLxul"
      }
    },
    {
      "cell_type": "code",
      "source": [
        "year = 0\n",
        "balance = 1000\n",
        "\n",
        "\n",
        "while balance <= 2000 :\n",
        "  year = year + 1\n",
        "  interest = balance * 0.07\n",
        "  balance = balance + interest\n",
        "print(year, \"년이 걸립니다.\")\n"
      ],
      "metadata": {
        "colab": {
          "base_uri": "https://localhost:8080/"
        },
        "id": "l0fBBVONLx28",
        "outputId": "2051e099-3140-4e8c-c7ca-82c899743dba"
      },
      "execution_count": 6,
      "outputs": [
        {
          "output_type": "stream",
          "name": "stdout",
          "text": [
            "11 년이 걸립니다.\n"
          ]
        }
      ]
    },
    {
      "cell_type": "markdown",
      "source": [
        "3. 다음 코드의 출력을 예상해보자. 각 단계에서 변수의 값을 예상해보시오,"
      ],
      "metadata": {
        "id": "tOhNXLyhRMYh"
      }
    },
    {
      "cell_type": "code",
      "source": [
        "n = 1234\n",
        "sum = 0\n",
        "while n > 0 :\n",
        "  digit = n % 10      #1234 % 10 = 4, 123 % 10 = 3, 12 % 10 = 2, 1 % 10 = 1 \n",
        "  sum = sum + digit   #sum(0) = sum(0) + 4, sum(4) = sum(4) + 3, sum(7) = sum(7) + 2, sum(9) = sum(9) + 1\n",
        "  n = n // 10         #n(1234) = n(1234) // 10 -> n(123), n(123) = n(123) // 10 -> n(12), n(12) = m(12) // 10 -> n(1)\n",
        "print(sum)            #1 + 2 + 3 + 4 = 10"
      ],
      "metadata": {
        "colab": {
          "base_uri": "https://localhost:8080/"
        },
        "id": "L5SI6laNRM1e",
        "outputId": "d314d1d2-06a7-4267-9cae-41d475db93ea"
      },
      "execution_count": 26,
      "outputs": [
        {
          "output_type": "stream",
          "name": "stdout",
          "text": [
            "10\n"
          ]
        }
      ]
    },
    {
      "cell_type": "markdown",
      "source": [
        "4. 사용자에게 곱셈 퀴즈를 내고 답을 사용자로부터 받는 프로그램에서 사용자가 올바른 답을 입력할 때까지 반복하도록 수정하여 보자."
      ],
      "metadata": {
        "id": "qmWgYVQhaIJg"
      }
    },
    {
      "cell_type": "code",
      "source": [
        "ans = 0\n",
        "while ans != 3*9:\n",
        "  ans = int(input(\"3*9는\"))\n",
        "print(\"맞았습니다.\")"
      ],
      "metadata": {
        "colab": {
          "base_uri": "https://localhost:8080/"
        },
        "id": "S8OUiVWgaQKm",
        "outputId": "9cb98633-120b-4ed8-bb57-530fbb34910b"
      },
      "execution_count": 28,
      "outputs": [
        {
          "output_type": "stream",
          "name": "stdout",
          "text": [
            "3*9는8\n",
            "3*9는9\n",
            "3*9는27\n",
            "맞았습니다.\n"
          ]
        }
      ]
    },
    {
      "cell_type": "markdown",
      "source": [
        "5. 사용자가 입력한 정수의 합을 계산하는 프로그램을 작성하자. 사용자가 0을 입력하기 전까지 정수를 계속하여 읽도록 한다."
      ],
      "metadata": {
        "id": "2-7J04rya4uj"
      }
    },
    {
      "cell_type": "code",
      "source": [
        "sum = 0\n",
        "while True:\n",
        "  x = int(input(\"정수를 입력하시오: \"))\n",
        "  if x == 0:\n",
        "    break;\n",
        "  sum = sum + x\n",
        "\n",
        "print(\"합은 \", sum, \"입니다.\")"
      ],
      "metadata": {
        "colab": {
          "base_uri": "https://localhost:8080/"
        },
        "id": "uBVy0XLqbEiA",
        "outputId": "08177c6d-a885-4b39-a46d-694c75ec9eba"
      },
      "execution_count": 29,
      "outputs": [
        {
          "output_type": "stream",
          "name": "stdout",
          "text": [
            "정수를 입력하시오: 1\n",
            "정수를 입력하시오: 2\n",
            "정수를 입력하시오: 3\n",
            "정수를 입력하시오: 0\n",
            "합은  6 입니다.\n"
          ]
        }
      ]
    },
    {
      "cell_type": "markdown",
      "source": [
        "6. 난수 생성 함수를 사용하여서 2개의 주사위를 던졌을 때 나오는 수를 다음과 같이 출력하여 보자."
      ],
      "metadata": {
        "id": "b-RsdCa6byfw"
      }
    },
    {
      "cell_type": "code",
      "source": [
        "from random import randint\n",
        "\n",
        "for i in range(3) :\n",
        "  d1 = randint(1, 6)\n",
        "  d2 = randint(1, 6)\n",
        "  print(\"첫 번째 주사위 = \", d1, \"두 번째 주사위 = \", d2)"
      ],
      "metadata": {
        "colab": {
          "base_uri": "https://localhost:8080/"
        },
        "id": "AGOJ09jYcK_0",
        "outputId": "0ae54379-001f-4901-c108-c989addedca6"
      },
      "execution_count": 31,
      "outputs": [
        {
          "output_type": "stream",
          "name": "stdout",
          "text": [
            "첫 번째 주사위 =  6 두 번째 주사위 =  2\n",
            "첫 번째 주사위 =  5 두 번째 주사위 =  2\n",
            "첫 번째 주사위 =  4 두 번째 주사위 =  4\n"
          ]
        }
      ]
    },
    {
      "cell_type": "markdown",
      "source": [
        "7. 터틀 그래픽과 반복을 사용하여 눈 모양을 그려보자."
      ],
      "metadata": {
        "id": "OKEyxwYldAQ3"
      }
    },
    {
      "cell_type": "code",
      "source": [
        "import turtle\n",
        "\n",
        "t= turtle.Turtle()\n",
        "t.shape(\"turtle\")\n",
        "t.color(\"blue\")\n",
        "t.left(90)\n",
        "\n",
        "for i in range (1,7):\n",
        " t.forward(100); t.forward(-30); t.left(60); t.forward(30); t.forward(-30)\n",
        " t.right(120); t.forward(30); t.forward(-30); t.left(60); t.forward(-70); t.left(60)\n",
        "turtle.exitonclick()"
      ],
      "metadata": {
        "id": "OfdHIkwlc4NT"
      },
      "execution_count": null,
      "outputs": []
    },
    {
      "cell_type": "markdown",
      "source": [
        "8. 우리는 이번 장에서 터틀 그래픽으로 별을 그려보았다. 이 코드를 응용하여서 다음과 같이 10개의 별을 그리는 프로그램을 작성하라. 별들은 시작 각도가 약간씩 다르다."
      ],
      "metadata": {
        "id": "N2JN-eCphQtv"
      }
    },
    {
      "cell_type": "code",
      "source": [
        "import turtle\n",
        "\n",
        "myPen = turtle.Turtle()\n",
        "myPen.speed(0)\n",
        "myPen.color(\"#FF0000\")\n",
        "\n",
        "for j in range (10):\n",
        "    for i in range (1,6):\n",
        "        myPen.left (144)\n",
        "        myPen.forward(200)\n",
        "    myPen.left(10)\n",
        "turtle.exitonclick()"
      ],
      "metadata": {
        "id": "K3TYNjWehaI5"
      },
      "execution_count": null,
      "outputs": []
    },
    {
      "cell_type": "markdown",
      "source": [
        "9. 반복과 난수를 함께 사용하면 화면에 랜덤한 원을 그릴 수 있다. 화면에 10개의 랜덤한 원을 그리는 프로그램을 작성하라. 원의 중심과 반지름이 모두 난수이어야 한다."
      ],
      "metadata": {
        "id": "hn3puXQZiXNq"
      }
    },
    {
      "cell_type": "code",
      "source": [
        "import turtle\n",
        "import random\n",
        "\n",
        "t = turtle.Turtle()\n",
        "t.shape(\"turtle\")\n",
        "\n",
        "for j in range(10):\n",
        "    t.up()\n",
        "    x = random.randint(-200,200)\n",
        "    y = random.randint(-200,200)\n",
        "    r = random.randint(10,200)\n",
        "    t.goto(x,y)\n",
        "    t.down()\n",
        "    t.circle(r)\n",
        "turtle.exitonclick()"
      ],
      "metadata": {
        "id": "a9IB4qjQiW-A"
      },
      "execution_count": null,
      "outputs": []
    },
    {
      "cell_type": "markdown",
      "source": [
        "10. 다음과 같이 거북이를 왕복 달리기시키는 프로그램을 작성해보자."
      ],
      "metadata": {
        "id": "wuWtg4S3kJwV"
      }
    },
    {
      "cell_type": "code",
      "source": [
        "import turtle\n",
        "\n",
        "t = turtle.Turtle()\n",
        "t.shape(\"turtle\")\n",
        "\n",
        "for i in range(5):\n",
        "    t.forward(200)\n",
        "    t.right(90)\n",
        "    t.forward(20)\n",
        "    t.right(90)\n",
        "    t.forward(200)\n",
        "    t.left(90)\n",
        "    t.forward(20)\n",
        "    t.left(90)\n",
        "turtle.exitonclick()"
      ],
      "metadata": {
        "id": "j_vvtIMUkQhJ"
      },
      "execution_count": null,
      "outputs": []
    },
    {
      "cell_type": "markdown",
      "source": [
        "12. 다음의 터틀 그래픽 프로그램을 분석해보자. 학습하지 않은 함수가 있다면 인터넷에서 조사하여보자."
      ],
      "metadata": {
        "id": "LMyGzXbLlY6k"
      }
    },
    {
      "cell_type": "code",
      "source": [
        "import turtle    #터틀 그래픽을 불러온다.\n",
        "t = turtle.Turtle()     #t에 turtle.Turtle()를 정의한다.\n",
        "t.shape(\"turtle\")   #거북이로 모양을 바꾼다.\n",
        "t.color(\"red\", \"yellow\")   #선 색상을 red, 채우기 색상을 yellow로 설정한다.\n",
        "t.begin_fill()   #색 채우기를 시작한다.\n",
        "while True:   #조건문이 참인동안 계속 수행한다.\n",
        "    t.forward(200)   #앞으로 200만큼 전진한다.\n",
        "    t.left(170)   #왼쪽으로 170도만큼 회전한다.\n",
        "    if abs(t.pos())< 1:   #거북이의 절대좌표가 1이하이면 정지한다.\n",
        "        break\n",
        "t.end_fill()   #색채우기를 종료한다.\n"
      ],
      "metadata": {
        "id": "udZYCykPlquH"
      },
      "execution_count": null,
      "outputs": []
    },
    {
      "cell_type": "markdown",
      "source": [
        "12. 터틀 그래픽과 반복을 사용하여 싸인(sine)그래프를 그려보자. 거북이를 싸인 값에 따라서 움직이면 된다."
      ],
      "metadata": {
        "id": "eYikVobzoKvb"
      }
    },
    {
      "cell_type": "code",
      "source": [
        "import turtle\n",
        "import math\n",
        "\n",
        "t = turtle.Turtle()\n",
        "t.shape(\"turtle\")\n",
        "t.color('red' , 'yellow')\n",
        "\n",
        "for x in range(0, 360):\n",
        "    t.goto(x,200*math.sin(x*3.14/180))\n",
        "turtle.exitonclick()"
      ],
      "metadata": {
        "id": "Zu23_d6WoYLJ"
      },
      "execution_count": null,
      "outputs": []
    }
  ]
}